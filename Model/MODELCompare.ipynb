{
 "cells": [
  {
   "cell_type": "code",
   "execution_count": 1,
   "id": "307d45fe-f386-4f76-94e4-710802cdba84",
   "metadata": {},
   "outputs": [],
   "source": [
    "import pandas as pd\n",
    "import numpy as np\n",
    "from sklearn.model_selection import train_test_split, RandomizedSearchCV, GridSearchCV\n",
    "from sklearn.ensemble import RandomForestClassifier\n",
    "from xgboost import XGBClassifier\n",
    "from sklearn.metrics import accuracy_score, mean_squared_error, r2_score\n",
    "from sklearn.impute import SimpleImputer\n",
    "from sklearn.pipeline import Pipeline\n",
    "import time\n",
    "import matplotlib.pyplot as plt"
   ]
  },
  {
   "cell_type": "code",
   "execution_count": 2,
   "id": "c2a771f7-a7ff-4975-9d2d-a326f02c4483",
   "metadata": {},
   "outputs": [],
   "source": [
    "aisles = pd.read_csv(\"aisles.csv\")\n",
    "departments = pd.read_csv(\"departments.csv\")\n",
    "order_products_prior = pd.read_csv(\"order_products__prior.csv\")\n",
    "order_products_train = pd.read_csv(\"order_products__train.csv\")\n",
    "orders = pd.read_csv(\"orders.csv\")\n",
    "products = pd.read_csv(\"products.csv\")"
   ]
  },
  {
   "cell_type": "code",
   "execution_count": 3,
   "id": "5285287e-7873-49dc-9338-999385461b18",
   "metadata": {},
   "outputs": [],
   "source": [
    "# Merge datasets\n",
    "order_products = pd.concat([order_products_prior, order_products_train], ignore_index=True)\n",
    "merged_data = orders.merge(order_products, on='order_id', how='inner')\n",
    "merged_data = merged_data.merge(products, on='product_id', how='inner')\n",
    "merged_data = merged_data.merge(aisles, on='aisle_id', how='inner')\n",
    "merged_data = merged_data.merge(departments, on='department_id', how='inner')"
   ]
  },
  {
   "cell_type": "code",
   "execution_count": 4,
   "id": "204dcf39-3cf1-427e-b9a3-234b76ea3b19",
   "metadata": {},
   "outputs": [],
   "source": [
    "# Define features and target\n",
    "X = merged_data.drop(columns=['reordered'])  \n",
    "y = merged_data['reordered']"
   ]
  },
  {
   "cell_type": "code",
   "execution_count": 5,
   "id": "43c60793-d10f-4159-a147-243491a91849",
   "metadata": {},
   "outputs": [],
   "source": [
    "# Handle non-numeric columns: drop non-numeric columns for now\n",
    "non_numeric_cols = X.select_dtypes(include=['object']).columns\n",
    "X = X.drop(columns=non_numeric_cols)  # Drop non-numeric columns"
   ]
  },
  {
   "cell_type": "code",
   "execution_count": 6,
   "id": "b99217c4-e409-4e0e-890a-01086511192c",
   "metadata": {},
   "outputs": [
    {
     "name": "stdout",
     "output_type": "stream",
     "text": [
      "Non-numeric columns: Index([], dtype='object')\n"
     ]
    }
   ],
   "source": [
    "# Identify and handle non-numeric columns\n",
    "non_numeric_cols = X.select_dtypes(include=['object']).columns\n",
    "print(\"Non-numeric columns:\", non_numeric_cols)"
   ]
  },
  {
   "cell_type": "code",
   "execution_count": 7,
   "id": "782ac5cb-e951-4967-8441-8c0a46f9efe9",
   "metadata": {},
   "outputs": [],
   "source": [
    "# Sample the data for faster experimentation (use only 10% of the dataset)\n",
    "X_train, X_test, y_train, y_test = train_test_split(X, y, test_size=0.2, random_state=42)\n",
    "X_train = X_train.sample(frac=0.1, random_state=42)  # Use only 10% of the training data\n",
    "y_train = y_train.loc[X_train.index]  # Match the target to the sample"
   ]
  },
  {
   "cell_type": "code",
   "execution_count": 8,
   "id": "aa821dc6-e2fa-49db-a537-f796efb69e7a",
   "metadata": {},
   "outputs": [],
   "source": [
    "imputer = SimpleImputer(strategy='mean')  # You can also use 'median' or 'most_frequent'\n",
    "X_train_imputed = imputer.fit_transform(X_train)  # Fit and transform on the training set\n",
    "X_test_imputed = imputer.transform(X_test)"
   ]
  },
  {
   "cell_type": "code",
   "execution_count": 9,
   "id": "d5ffd98f-9751-4f6f-9251-de5e67356f1e",
   "metadata": {},
   "outputs": [],
   "source": [
    "model_results = {}\n",
    "rf_param_grid = {\n",
    "    'n_estimators': [100],  # Use fewer estimators for faster runs\n",
    "    'max_depth': [10],  # Limit the max depth for faster computation\n",
    "    'min_samples_split': [2],\n",
    "    'bootstrap': [True]\n",
    "}\n",
    "\n",
    "xgb_param_grid = {\n",
    "    'n_estimators': [50],  # Use fewer estimators for faster runs\n",
    "    'max_depth': [3],  # Use smaller trees\n",
    "    'learning_rate': [0.1],  # Default learning rate\n",
    "    'subsample': [0.8],\n",
    "    'colsample_bytree': [0.8]\n",
    "}"
   ]
  },
  {
   "cell_type": "markdown",
   "id": "b814af80-174c-4b25-8c2e-4d699c1c961c",
   "metadata": {},
   "source": [
    "# RANDOMFOREST VS XGBOOST"
   ]
  },
  {
   "cell_type": "code",
   "execution_count": 11,
   "id": "c278ba14-d409-4653-8e57-a76d0af87375",
   "metadata": {},
   "outputs": [
    {
     "name": "stdout",
     "output_type": "stream",
     "text": [
      "Tuning Random Forest model...\n",
      "Fitting 2 folds for each of 1 candidates, totalling 2 fits\n"
     ]
    },
    {
     "name": "stderr",
     "output_type": "stream",
     "text": [
      "C:\\Users\\anura\\anaconda3\\lib\\site-packages\\sklearn\\model_selection\\_search.py:306: UserWarning: The total space of parameters 1 is smaller than n_iter=5. Running 1 iterations. For exhaustive searches, use GridSearchCV.\n",
      "  warnings.warn(\n"
     ]
    },
    {
     "name": "stdout",
     "output_type": "stream",
     "text": [
      "Best parameters for Random Forest: {'n_estimators': 100, 'min_samples_split': 2, 'max_depth': 10, 'bootstrap': True}\n",
      "Random Forest training time: 261.49 seconds\n",
      "Tuning XGBoost model...\n",
      "Fitting 2 folds for each of 1 candidates, totalling 2 fits\n"
     ]
    },
    {
     "name": "stderr",
     "output_type": "stream",
     "text": [
      "C:\\Users\\anura\\anaconda3\\lib\\site-packages\\sklearn\\model_selection\\_search.py:306: UserWarning: The total space of parameters 1 is smaller than n_iter=5. Running 1 iterations. For exhaustive searches, use GridSearchCV.\n",
      "  warnings.warn(\n",
      "C:\\Users\\anura\\anaconda3\\lib\\site-packages\\xgboost\\core.py:158: UserWarning: [07:32:31] WARNING: C:\\buildkite-agent\\builds\\buildkite-windows-cpu-autoscaling-group-i-0ed59c031377d09b8-1\\xgboost\\xgboost-ci-windows\\src\\learner.cc:740: \n",
      "Parameters: { \"use_label_encoder\" } are not used.\n",
      "\n",
      "  warnings.warn(smsg, UserWarning)\n"
     ]
    },
    {
     "name": "stdout",
     "output_type": "stream",
     "text": [
      "Best parameters for XGBoost: {'subsample': 0.8, 'n_estimators': 50, 'max_depth': 3, 'learning_rate': 0.1, 'colsample_bytree': 0.8}\n",
      "XGBoost training time: 22.50 seconds\n",
      "Training Random Forest model with best parameters...\n",
      "Training XGBoost model with best parameters...\n"
     ]
    }
   ],
   "source": [
    "# Set up RandomizedSearchCV for Random Forest\n",
    "print(\"Tuning Random Forest model...\")\n",
    "start_time = time.time()\n",
    "rf_random_search = RandomizedSearchCV(estimator=RandomForestClassifier(random_state=42, n_jobs=-1),\n",
    "                                      param_distributions=rf_param_grid, n_iter=5, cv=2, n_jobs=-1, verbose=1, scoring='accuracy')\n",
    "rf_random_search.fit(X_train_imputed, y_train)\n",
    "\n",
    "print(f\"Best parameters for Random Forest: {rf_random_search.best_params_}\")\n",
    "rf_best = rf_random_search.best_estimator_\n",
    "print(f\"Random Forest training time: {time.time() - start_time:.2f} seconds\")\n",
    "\n",
    "# Set up RandomizedSearchCV for XGBoost\n",
    "print(\"Tuning XGBoost model...\")\n",
    "start_time = time.time()\n",
    "xgb_random_search = RandomizedSearchCV(estimator=XGBClassifier(random_state=42, use_label_encoder=False, eval_metric='mlogloss'),\n",
    "                                      param_distributions=xgb_param_grid, n_iter=5, cv=2, n_jobs=-1, verbose=1, scoring='accuracy')\n",
    "xgb_random_search.fit(X_train_imputed, y_train)\n",
    "\n",
    "print(f\"Best parameters for XGBoost: {xgb_random_search.best_params_}\")\n",
    "xgb_best = xgb_random_search.best_estimator_\n",
    "print(f\"XGBoost training time: {time.time() - start_time:.2f} seconds\")\n",
    "\n",
    "# Train the tuned Random Forest model\n",
    "print(\"Training Random Forest model with best parameters...\")\n",
    "y_pred_rf = rf_best.predict(X_test_imputed)\n",
    "model_results = {\n",
    "    'Random Forest': {\n",
    "        'accuracy': accuracy_score(y_test, y_pred_rf),\n",
    "        'mse': mean_squared_error(y_test, y_pred_rf),\n",
    "        'r2': r2_score(y_test, y_pred_rf)\n",
    "    }\n",
    "}\n",
    "\n",
    "# Train the tuned XGBoost model\n",
    "print(\"Training XGBoost model with best parameters...\")\n",
    "y_pred_xgb = xgb_best.predict(X_test_imputed)\n",
    "model_results['XGBoost'] = {\n",
    "    'accuracy': accuracy_score(y_test, y_pred_xgb),\n",
    "    'mse': mean_squared_error(y_test, y_pred_xgb),\n",
    "    'r2': r2_score(y_test, y_pred_xgb)\n",
    "}"
   ]
  },
  {
   "cell_type": "code",
   "execution_count": 12,
   "id": "e6bb0c1b-9c4a-4918-91de-040c217aa38b",
   "metadata": {},
   "outputs": [
    {
     "name": "stdout",
     "output_type": "stream",
     "text": [
      "\n",
      "Model Performance:\n",
      "\n",
      "Random Forest Results:\n",
      "Accuracy: 0.7251\n",
      "MSE: 0.2749\n",
      "R²: -0.1363\n",
      "\n",
      "XGBoost Results:\n",
      "Accuracy: 0.7210\n",
      "MSE: 0.2790\n",
      "R²: -0.1533\n"
     ]
    },
    {
     "data": {
      "image/png": "[encoded data removed]",
      "text/plain": [
       "<Figure size 1800x500 with 3 Axes>"
      ]
     },
     "metadata": {},
     "output_type": "display_data"
    }
   ],
   "source": [
    "print(\"\\nModel Performance:\")\n",
    "for model_name, metrics in model_results.items():\n",
    "    print(f\"\\n{model_name} Results:\")\n",
    "    print(f\"Accuracy: {metrics['accuracy']:.4f}\")\n",
    "    print(f\"MSE: {metrics['mse']:.4f}\")\n",
    "    print(f\"R²: {metrics['r2']:.4f}\")\n",
    "\n",
    "### Plotting Results ###\n",
    "\n",
    "# Convert results to DataFrame for plotting\n",
    "results_df = pd.DataFrame(model_results).T\n",
    "\n",
    "# Plot Accuracy, MSE, R² for comparison\n",
    "fig, axes = plt.subplots(1, 3, figsize=(18, 5))\n",
    "results_df['accuracy'].plot(kind='bar', ax=axes[0], color='skyblue', title=\"Accuracy\")\n",
    "results_df['mse'].plot(kind='bar', ax=axes[1], color='lightgreen', title=\"Mean Squared Error (MSE)\")\n",
    "results_df['r2'].plot(kind='bar', ax=axes[2], color='salmon', title=\"R² Score\")\n",
    "plt.show()"
   ]
  },
  {
   "cell_type": "code",
   "execution_count": null,
   "id": "6ff9c10a-3edb-4fa0-8b72-72697f11b470",
   "metadata": {},
   "outputs": [],
   "source": []
  }
 ],
 "metadata": {
  "kernelspec": {
   "display_name": "Python 3 (ipykernel)",
   "language": "python",
   "name": "python3"
  },
  "language_info": {
   "codemirror_mode": {
    "name": "ipython",
    "version": 3
   },
   "file_extension": ".py",
   "mimetype": "text/x-python",
   "name": "python",
   "nbconvert_exporter": "python",
   "pygments_lexer": "ipython3",
   "version": "3.10.13"
  }
 },
 "nbformat": 4,
 "nbformat_minor": 5
}
